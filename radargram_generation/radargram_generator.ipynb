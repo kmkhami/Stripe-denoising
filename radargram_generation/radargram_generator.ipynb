{
 "cells": [
  {
   "cell_type": "code",
   "execution_count": 8,
   "metadata": {},
   "outputs": [],
   "source": [
    "import numpy as np\n",
    "import netCDF4 as nc\n",
    "from PIL import Image\n",
    "from os import listdir, getcwd\n",
    "from os.path import isdir, join, dirname, split"
   ]
  },
  {
   "cell_type": "code",
   "execution_count": 2,
   "metadata": {},
   "outputs": [],
   "source": [
    "path = join(dirname(getcwd()),'data')"
   ]
  },
  {
   "cell_type": "code",
   "execution_count": 12,
   "metadata": {},
   "outputs": [],
   "source": [
    "dirs = listdir(path)"
   ]
  },
  {
   "cell_type": "code",
   "execution_count": 21,
   "metadata": {},
   "outputs": [],
   "source": [
    "for folder in dirs:\n",
    "    tmp_path = join(path, folder)\n",
    "    if isdir(tmp_path):\n",
    "        files = listdir(tmp_path)\n",
    "        for file in files:\n",
    "            if file.endswith(\".nc\"):\n",
    "                create_radargram(join(tmp_path, file))"
   ]
  },
  {
   "cell_type": "code",
   "execution_count": 20,
   "metadata": {},
   "outputs": [],
   "source": [
    "def create_radargram(file_path):\n",
    "    _, file_name = split(file_path)\n",
    "    file_name = file_name[:-3]\n",
    "    max_gain = 100\n",
    "    ds = nc.Dataset(file_path)\n",
    "    low_gain = np.asarray(ds['amplitude_low_gain'])\n",
    "    high_gain = np.asarray(ds['amplitude_high_gain'])\n",
    "    low_gain = 255 * (low_gain-np.amin(low_gain))/(np.amax(low_gain) - np.amin(low_gain))\n",
    "    high_gain = 255 * (high_gain-np.amin(high_gain))/(np.amax(high_gain) - np.amin(high_gain))\n",
    "    Image.fromarray(low_gain.T).convert(\"L\").save(\"images/\"+file_name+\"_LOW.png\")\n",
    "    high_img = Image.fromarray(high_gain.T).convert(\"L\").save(\"images/\"+file_name+\"_HIGH.png\")"
   ]
  },
  {
   "cell_type": "code",
   "execution_count": null,
   "metadata": {},
   "outputs": [],
   "source": []
  }
 ],
 "metadata": {
  "kernelspec": {
   "display_name": "Python 3",
   "language": "python",
   "name": "python3"
  },
  "language_info": {
   "codemirror_mode": {
    "name": "ipython",
    "version": 3
   },
   "file_extension": ".py",
   "mimetype": "text/x-python",
   "name": "python",
   "nbconvert_exporter": "python",
   "pygments_lexer": "ipython3",
   "version": "3.7.3"
  }
 },
 "nbformat": 4,
 "nbformat_minor": 4
}
